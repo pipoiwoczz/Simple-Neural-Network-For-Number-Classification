{
 "cells": [
  {
   "cell_type": "markdown",
   "metadata": {},
   "source": [
    "# ABOUT DATASET\n",
    "In this simple project, mnist dataset is a good choice. \n",
    "\n",
    "Some information about this dataset: \n",
    "- \n",
    "- \n",
    "- "
   ]
  },
  {
   "cell_type": "code",
   "execution_count": 5,
   "metadata": {},
   "outputs": [],
   "source": [
    "# load and store data in a file\n",
    "\n",
    "import tensorflow as tf\n",
    "import numpy as np\n",
    "import os\n",
    "import gzip\n",
    "import pickle\n",
    "\n",
    "def load_and_save_data(save_path=\"mnist.pkl.gz\"):\n",
    "    # check if the file already exists\n",
    "    if os.path.exists(save_path):\n",
    "        print(\"Data already exists in\", save_path)\n",
    "        return\n",
    "\n",
    "    # load dataset\n",
    "    (x_train, y_train), (x_test, y_test) = tf.keras.datasets.mnist.load_data()\n",
    "\n",
    "    # split into training and validation\n",
    "    val_size = 10000\n",
    "    x_val, y_val = x_train[-val_size:], y_train[-val_size:]\n",
    "    x_train, y_train = x_train[:-val_size], y_train[:-val_size]\n",
    "\n",
    "    # save data to a compressed file using pickle\n",
    "    with gzip.open(save_path, \"wb\") as f:\n",
    "        pickle.dump(((x_train, y_train), (x_val, y_val), (x_test, y_test)), f)\n",
    "    \n",
    "    print(\"Data saved to\", save_path)\n",
    "\n",
    "\n"
   ]
  },
  {
   "cell_type": "code",
   "execution_count": 6,
   "metadata": {},
   "outputs": [
    {
     "name": "stdout",
     "output_type": "stream",
     "text": [
      "Data saved to mnist.pkl.gz\n"
     ]
    }
   ],
   "source": [
    "# main cell to run\n",
    "\n",
    "if __name__ == \"__main__\":\n",
    "    load_and_save_data()"
   ]
  }
 ],
 "metadata": {
  "kernelspec": {
   "display_name": "Python 3",
   "language": "python",
   "name": "python3"
  },
  "language_info": {
   "codemirror_mode": {
    "name": "ipython",
    "version": 3
   },
   "file_extension": ".py",
   "mimetype": "text/x-python",
   "name": "python",
   "nbconvert_exporter": "python",
   "pygments_lexer": "ipython3",
   "version": "3.11.9"
  }
 },
 "nbformat": 4,
 "nbformat_minor": 2
}
